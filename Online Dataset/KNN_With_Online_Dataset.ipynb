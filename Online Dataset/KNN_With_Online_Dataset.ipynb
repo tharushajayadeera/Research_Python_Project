{
 "cells": [
  {
   "cell_type": "code",
   "execution_count": 1,
   "metadata": {},
   "outputs": [
    {
     "data": {
      "text/plain": [
       "0.3469324153793485"
      ]
     },
     "execution_count": 1,
     "metadata": {},
     "output_type": "execute_result"
    }
   ],
   "source": [
    "import pandas as pd  \n",
    "import numpy as np  \n",
    "import matplotlib.pyplot as plt   \n",
    "from sklearn.model_selection import train_test_split \n",
    "from sklearn import metrics\n",
    "%matplotlib inline\n",
    "\n",
    "cars = pd.read_csv('Online_Dataset.csv')\n",
    "\n",
    "X = cars.iloc[:,3:] \n",
    "y = cars.iloc[:,2]\n",
    "\n",
    "#Convert the column into categorical columns\n",
    "\n",
    "states=pd.get_dummies(X['Fuel_Type'],drop_first=True)\n",
    "\n",
    "# Drop the state coulmn\n",
    "X=X.drop('Fuel_Type',axis=1)\n",
    "\n",
    "# concat the dummy variables\n",
    "X=pd.concat([X,states],axis=1)\n",
    "\n",
    "\n",
    "#Convert the column into categorical columns\n",
    "\n",
    "states=pd.get_dummies(X['Color'],drop_first=True)\n",
    "\n",
    "# Drop the state coulmn\n",
    "X=X.drop('Color',axis=1)\n",
    "\n",
    "# concat the dummy variables\n",
    "X=pd.concat([X,states],axis=1)\n",
    "\n",
    "\n",
    "X=X.drop(['Cylinders',\n",
    "          'Age_08_04',\n",
    "          'Parking_Assistant',\n",
    "          'Power_Steering',\n",
    "          'Airbag_1',\n",
    "          'Airbag_2',\n",
    "          'Mfg_Month',\n",
    "          'Met_Color',\n",
    "          'BOVAG_Guarantee',\n",
    "          'Mfr_Guarantee',\n",
    "          'Backseat_Divider',\n",
    "          'Automatic',\n",
    "          'HP',\n",
    "          'Boardcomputer',\n",
    "          'ABS',\n",
    "          'Powered_Windows',\n",
    "          'Mistlamps',\n",
    "          'Tow_Bar',\n",
    "          'Sport_Model'\n",
    "         ], axis=1)\n",
    "\n",
    "X_train, X_test, y_train, y_test = train_test_split(X, y, test_size=0.2, random_state=0)        \n",
    "        \n",
    "from sklearn.neighbors import KNeighborsRegressor\n",
    "\n",
    "regressor = KNeighborsRegressor(n_neighbors=85)\n",
    "regressor.fit(X_train, y_train)  \n",
    "\n",
    "y_pred = regressor.predict(X_test)\n",
    "\n",
    "from sklearn.metrics import r2_score\n",
    "score=r2_score(y_test,y_pred)\n",
    "score"
   ]
  },
  {
   "cell_type": "code",
   "execution_count": 7,
   "metadata": {},
   "outputs": [
    {
     "data": {
      "text/plain": [
       "array([7992.76470588])"
      ]
     },
     "execution_count": 7,
     "metadata": {},
     "output_type": "execute_result"
    }
   ],
   "source": [
    "X_test = pd.DataFrame({'Mfg_Year':[2002],\n",
    "           'KM':[64359],\n",
    "           'CC':[1600],\n",
    "           'Doors':[3],\n",
    "           'Gears':[5],\n",
    "           'Quarterly_Tax':[85],\n",
    "           'Weight':[1105],\n",
    "           'Guarantee_Period':[3],\n",
    "           'Airco':[1],\n",
    "           'Automatic_airco':[0],\n",
    "           'CD_Player':[1],\n",
    "           'Central_Lock':[1],\n",
    "           'Radio':[0],\n",
    "           'Metallic_Rim':[0],\n",
    "           'Radio_cassette':[0],\n",
    "           'Diesel':[0],\n",
    "           'Petrol':[1],\n",
    "           'Black':[0],\n",
    "           'Blue':[0],\n",
    "           'Green':[0],\n",
    "           'Grey':[1],\n",
    "           'Red':[0],\n",
    "           'Silver':[0],\n",
    "           'Violet':[0],\n",
    "           'White':[0],\n",
    "           'Yellow':[0]})\n",
    "\n",
    "y_pred = regressor.predict(X_test)\n",
    "y_pred\n",
    "#16530"
   ]
  },
  {
   "cell_type": "code",
   "execution_count": 2,
   "metadata": {},
   "outputs": [
    {
     "data": {
      "text/html": [
       "<div>\n",
       "<style scoped>\n",
       "    .dataframe tbody tr th:only-of-type {\n",
       "        vertical-align: middle;\n",
       "    }\n",
       "\n",
       "    .dataframe tbody tr th {\n",
       "        vertical-align: top;\n",
       "    }\n",
       "\n",
       "    .dataframe thead th {\n",
       "        text-align: right;\n",
       "    }\n",
       "</style>\n",
       "<table border=\"1\" class=\"dataframe\">\n",
       "  <thead>\n",
       "    <tr style=\"text-align: right;\">\n",
       "      <th></th>\n",
       "      <th>Actual</th>\n",
       "      <th>Predicted</th>\n",
       "    </tr>\n",
       "  </thead>\n",
       "  <tbody>\n",
       "    <tr>\n",
       "      <td>479</td>\n",
       "      <td>8250</td>\n",
       "      <td>8914.588235</td>\n",
       "    </tr>\n",
       "    <tr>\n",
       "      <td>434</td>\n",
       "      <td>8950</td>\n",
       "      <td>8231.588235</td>\n",
       "    </tr>\n",
       "    <tr>\n",
       "      <td>247</td>\n",
       "      <td>11895</td>\n",
       "      <td>13834.823529</td>\n",
       "    </tr>\n",
       "    <tr>\n",
       "      <td>784</td>\n",
       "      <td>6450</td>\n",
       "      <td>8655.000000</td>\n",
       "    </tr>\n",
       "    <tr>\n",
       "      <td>27</td>\n",
       "      <td>13950</td>\n",
       "      <td>11161.235294</td>\n",
       "    </tr>\n",
       "    <tr>\n",
       "      <td>...</td>\n",
       "      <td>...</td>\n",
       "      <td>...</td>\n",
       "    </tr>\n",
       "    <tr>\n",
       "      <td>748</td>\n",
       "      <td>10500</td>\n",
       "      <td>8056.294118</td>\n",
       "    </tr>\n",
       "    <tr>\n",
       "      <td>317</td>\n",
       "      <td>9500</td>\n",
       "      <td>9561.470588</td>\n",
       "    </tr>\n",
       "    <tr>\n",
       "      <td>1011</td>\n",
       "      <td>7950</td>\n",
       "      <td>12879.458824</td>\n",
       "    </tr>\n",
       "    <tr>\n",
       "      <td>627</td>\n",
       "      <td>11500</td>\n",
       "      <td>10082.447059</td>\n",
       "    </tr>\n",
       "    <tr>\n",
       "      <td>613</td>\n",
       "      <td>9450</td>\n",
       "      <td>9856.505882</td>\n",
       "    </tr>\n",
       "  </tbody>\n",
       "</table>\n",
       "<p>204 rows × 2 columns</p>\n",
       "</div>"
      ],
      "text/plain": [
       "      Actual     Predicted\n",
       "479     8250   8914.588235\n",
       "434     8950   8231.588235\n",
       "247    11895  13834.823529\n",
       "784     6450   8655.000000\n",
       "27     13950  11161.235294\n",
       "...      ...           ...\n",
       "748    10500   8056.294118\n",
       "317     9500   9561.470588\n",
       "1011    7950  12879.458824\n",
       "627    11500  10082.447059\n",
       "613     9450   9856.505882\n",
       "\n",
       "[204 rows x 2 columns]"
      ]
     },
     "execution_count": 2,
     "metadata": {},
     "output_type": "execute_result"
    }
   ],
   "source": [
    "cars = pd.DataFrame({'Actual': y_test, 'Predicted': y_pred})\n",
    "cars"
   ]
  },
  {
   "cell_type": "code",
   "execution_count": 3,
   "metadata": {},
   "outputs": [
    {
     "data": {
      "image/png": "[encoded data removed]",
      "text/plain": [
       "<Figure size 1152x720 with 1 Axes>"
      ]
     },
     "metadata": {
      "needs_background": "light"
     },
     "output_type": "display_data"
    }
   ],
   "source": [
    "df1 = cars.head(25)\n",
    "df1.plot(kind='bar',figsize=(16,10))\n",
    "plt.grid(which='major', linestyle='-', linewidth='1', color='green')\n",
    "plt.grid(which='minor', linestyle=':', linewidth='1', color='black')\n",
    "plt.show()"
   ]
  },
  {
   "cell_type": "code",
   "execution_count": 4,
   "metadata": {},
   "outputs": [
    {
     "name": "stdout",
     "output_type": "stream",
     "text": [
      "Mean Absolute Error: 2064.0557093425605\n",
      "Mean Squared Error: 8670254.505990908\n",
      "Root Mean Squared Error: 2944.529589932984\n"
     ]
    }
   ],
   "source": [
    "print('Mean Absolute Error:', metrics.mean_absolute_error(y_test, y_pred))  \n",
    "print('Mean Squared Error:', metrics.mean_squared_error(y_test, y_pred))  \n",
    "print('Root Mean Squared Error:', np.sqrt(metrics.mean_squared_error(y_test, y_pred)))"
   ]
  },
  {
   "cell_type": "code",
   "execution_count": 5,
   "metadata": {},
   "outputs": [
    {
     "data": {
      "text/plain": [
       "0.3469324153793485"
      ]
     },
     "execution_count": 5,
     "metadata": {},
     "output_type": "execute_result"
    }
   ],
   "source": [
    "import pandas as pd  \n",
    "import numpy as np  \n",
    "import matplotlib.pyplot as plt   \n",
    "from sklearn.model_selection import train_test_split \n",
    "%matplotlib inline\n",
    "\n",
    "\n",
    "cars = pd.read_csv('Online_Dataset.csv')\n",
    "\n",
    "\n",
    "X = cars.iloc[:,3:] \n",
    "y = cars.iloc[:,2]\n",
    "\n",
    "#Convert the column into categorical columns\n",
    "\n",
    "states=pd.get_dummies(X['Fuel_Type'],drop_first=True)\n",
    "\n",
    "# Drop the state coulmn\n",
    "X=X.drop('Fuel_Type',axis=1)\n",
    "\n",
    "# concat the dummy variables\n",
    "X=pd.concat([X,states],axis=1)\n",
    "\n",
    "\n",
    "#Convert the column into categorical columns\n",
    "\n",
    "states=pd.get_dummies(X['Color'],drop_first=True)\n",
    "\n",
    "# Drop the state coulmn\n",
    "X=X.drop('Color',axis=1)\n",
    "\n",
    "# concat the dummy variables\n",
    "X=pd.concat([X,states],axis=1)\n",
    "\n",
    "\n",
    "X=X.drop(['Cylinders',\n",
    "          'Age_08_04',\n",
    "          'Parking_Assistant',\n",
    "          'Power_Steering',\n",
    "          'Airbag_1',\n",
    "          'Airbag_2',\n",
    "          'Mfg_Month',\n",
    "          'Met_Color',\n",
    "          'BOVAG_Guarantee',\n",
    "          'Mfr_Guarantee',\n",
    "          'Backseat_Divider',\n",
    "          'Automatic',\n",
    "          'HP',\n",
    "          'Boardcomputer',\n",
    "          'ABS',\n",
    "          'Powered_Windows',\n",
    "          'Mistlamps',\n",
    "          'Tow_Bar',\n",
    "          'Sport_Model'\n",
    "         ], axis=1)\n",
    "\n",
    "#Get zcores for non bitmap indexed fields\n",
    "Z_Fields = X.iloc[:,0:8] \n",
    "\n",
    "cols = list(Z_Fields.columns)\n",
    "\n",
    "for col in cols:\n",
    "        X[col] = (Z_Fields[col] - Z_Fields[col].mean())/Z_Fields[col].std(ddof=0)\n",
    "\n",
    "X_train, X_test, y_train, y_test = train_test_split(X, y, test_size=0.2, random_state=0)        \n",
    "        \n",
    "from sklearn.neighbors import KNeighborsRegressor\n",
    "\n",
    "regressor = KNeighborsRegressor(n_neighbors=85)\n",
    "regressor.fit(X_train, y_train) \n",
    "\n",
    "from sklearn.metrics import r2_score\n",
    "score=r2_score(y_test,y_pred)\n",
    "score"
   ]
  }
 ],
 "metadata": {
  "kernelspec": {
   "display_name": "Python 3",
   "language": "python",
   "name": "python3"
  },
  "language_info": {
   "codemirror_mode": {
    "name": "ipython",
    "version": 3
   },
   "file_extension": ".py",
   "mimetype": "text/x-python",
   "name": "python",
   "nbconvert_exporter": "python",
   "pygments_lexer": "ipython3",
   "version": "3.7.4"
  }
 },
 "nbformat": 4,
 "nbformat_minor": 2
}
